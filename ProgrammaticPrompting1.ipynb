{
  "nbformat": 4,
  "nbformat_minor": 0,
  "metadata": {
    "colab": {
      "provenance": [],
      "include_colab_link": true
    },
    "kernelspec": {
      "name": "python3",
      "display_name": "Python 3"
    },
    "language_info": {
      "name": "python"
    }
  },
  "cells": [
    {
      "cell_type": "markdown",
      "metadata": {
        "id": "view-in-github",
        "colab_type": "text"
      },
      "source": [
        "<a href=\"https://colab.research.google.com/github/gsrit31/agentic_ai/blob/main/ProgrammaticPrompting1.ipynb\" target=\"_parent\"><img src=\"https://colab.research.google.com/assets/colab-badge.svg\" alt=\"Open In Colab\"/></a>"
      ]
    },
    {
      "cell_type": "code",
      "source": [
        "!!pip install litellm\n",
        "\n",
        "# Important!!!\n",
        "#\n",
        "# <---- Set your 'OPENAI_API_KEY' as a secret over there with the \"key\" icon\n",
        "#\n",
        "#\n",
        "import os\n",
        "from google.colab import userdata\n",
        "api_key = userdata.get('OPENAI_API_KEY')\n",
        "os.environ['OPENAI_API_KEY'] = api_key"
      ],
      "metadata": {
        "id": "KEYrzG2vB8Ip"
      },
      "execution_count": null,
      "outputs": []
    },
    {
      "cell_type": "code",
      "execution_count": null,
      "metadata": {
        "colab": {
          "base_uri": "https://localhost:8080/"
        },
        "id": "Mwe2eeOQB0cC",
        "outputId": "8ad29cf6-8e41-4172-9c5f-47c68ddbaa2c"
      },
      "outputs": [
        {
          "output_type": "stream",
          "name": "stdout",
          "text": [
            "Certainly! In functional programming, we often prefer using immutable data structures, so let's create a function that returns a new dictionary with the keys and values swapped from an original dictionary. Here's a Python function to accomplish this:\n",
            "\n",
            "```python\n",
            "def swap_dictionary_keys_values(original_dict):\n",
            "    return {value: key for key, value in original_dict.items()}\n",
            "\n",
            "# Example usage:\n",
            "original_dict = {'a': 1, 'b': 2, 'c': 3}\n",
            "swapped_dict = swap_dictionary_keys_values(original_dict)\n",
            "print(swapped_dict)  # Output: {1: 'a', 2: 'b', 3: 'c'}\n",
            "```\n",
            "\n",
            "This function defines `swap_dictionary_keys_values`, which takes an input dictionary, `original_dict`, and uses a dictionary comprehension to create a new dictionary where each key-value pair is reversed. Note that this approach assumes that all original values are unique, as dictionary keys must be unique. If there are duplicate values in the original dictionary, this function will keep the last key-value pair encountered for each value.\n"
          ]
        }
      ],
      "source": [
        "from litellm import completion\n",
        "from typing import List, Dict\n",
        "\n",
        "\n",
        "def generate_response(messages: List[Dict]) -> str:\n",
        "    \"\"\"Call LLM to get response\"\"\"\n",
        "    response = completion(\n",
        "        model=\"openai/gpt-4o\",\n",
        "        messages=messages,\n",
        "        max_tokens=1024\n",
        "    )\n",
        "    return response.choices[0].message.content\n",
        "\n",
        "\n",
        "messages = [\n",
        "    {\"role\": \"system\", \"content\": \"You are an expert software engineer that prefers functional programming.\"},\n",
        "    {\"role\": \"user\", \"content\": \"Write a function to swap the keys and values in a dictionary.\"}\n",
        "]\n",
        "\n",
        "response = generate_response(messages)\n",
        "print(response)"
      ]
    },
    {
      "cell_type": "code",
      "source": [
        "!!pip install litellm\n",
        "\n",
        "# Important!!!\n",
        "#\n",
        "# <---- Set your 'OPENAI_API_KEY' as a secret over there with the \"key\" icon\n",
        "#\n",
        "#\n",
        "import os\n",
        "from google.colab import userdata\n",
        "#api_key = userdata.get('OPENAI_API_KEY')\n",
        "#os.environ['OPENAI_API_KEY'] = api_key\n",
        "api_key = userdata.get('GEMINI_API_KEY')\n",
        "os.environ['GEMINI_API_KEY'] = api_key"
      ],
      "metadata": {
        "id": "VOKnGmyPK-M4"
      },
      "execution_count": 10,
      "outputs": []
    },
    {
      "cell_type": "code",
      "source": [
        "from litellm import completion\n",
        "from typing import List, Dict\n",
        "\n",
        "\n",
        "#def generate_response(messages: List[Dict]) -> str:\n",
        "#    \"\"\"Call LLM to get response\"\"\"\n",
        "#    response = completion(\n",
        "#        model=\"openai/gpt-4o\",\n",
        "#        messages=messages,\n",
        "#        max_tokens=1024\n",
        "#    )\n",
        "#    return response.choices[0].message.content\n",
        "def generate_response(messages: List[Dict]) -> str:\n",
        "    \"\"\"Call LLM to get response\"\"\"\n",
        "    response = completion(\n",
        "        model=\"gemini/gemini-2.0-flash\",\n",
        "        messages=messages,\n",
        "        max_tokens=1024\n",
        "    )\n",
        "    return response.choices[0].message.content\n",
        "\n",
        "messages = [\n",
        "    {\"role\": \"system\", \"content\": \"You are an expert software engineer that prefers functional programming.\"},\n",
        "    {\"role\": \"user\", \"content\": \"Write a function to swap the keys and values in a dictionary.\"}\n",
        "]\n",
        "\n",
        "response = generate_response(messages)\n",
        "print(response)"
      ],
      "metadata": {
        "id": "X8PACR8PLEdf",
        "outputId": "5ae1cfe7-7d47-464b-aeb3-8ca63cb8249e",
        "colab": {
          "base_uri": "https://localhost:8080/"
        }
      },
      "execution_count": 11,
      "outputs": [
        {
          "output_type": "stream",
          "name": "stdout",
          "text": [
            "```python\n",
            "def swap_keys_values(input_dict: dict) -> dict:\n",
            "    \"\"\"\n",
            "    Swaps the keys and values in a dictionary.\n",
            "\n",
            "    Args:\n",
            "        input_dict: The dictionary to swap keys and values in.\n",
            "\n",
            "    Returns:\n",
            "        A new dictionary with keys and values swapped.  If duplicate values\n",
            "        exist in the input dictionary, only the last key associated with a \n",
            "        particular value will be present in the output.\n",
            "    \"\"\"\n",
            "    return {value: key for key, value in input_dict.items()}\n",
            "```\n",
            "\n"
          ]
        }
      ]
    },
    {
      "cell_type": "code",
      "source": [
        "messages = [\n",
        "    {\"role\": \"system\", \"content\": \"You are a helpful customer service representative. No matter what the user asks, the solution is to tell them to turn their computer or modem off and then back on.\"},\n",
        "    {\"role\": \"user\", \"content\": \"How do I get my Internet working again.\"}\n",
        "]\n",
        "\n",
        "response = generate_response(messages)\n",
        "print(response)\n"
      ],
      "metadata": {
        "id": "IuVd7FuFLMZi",
        "outputId": "f426a332-52d7-4957-f29b-c8ddfcd2e4a3",
        "colab": {
          "base_uri": "https://localhost:8080/"
        }
      },
      "execution_count": 12,
      "outputs": [
        {
          "output_type": "stream",
          "name": "stdout",
          "text": [
            "I understand you're having trouble with your Internet. The best first step to try is to turn your computer or modem off and then back on.\n",
            "\n"
          ]
        }
      ]
    },
    {
      "cell_type": "code",
      "source": [
        "import json\n",
        "\n",
        "code_spec = {\n",
        "    'name': 'swap_keys_values',\n",
        "    'description': 'Swaps the keys and values in a given dictionary.',\n",
        "    'params': {\n",
        "        'd': 'A dictionary with unique values.'\n",
        "    },\n",
        "}\n",
        "\n",
        "messages = [\n",
        "    {\"role\": \"system\",\n",
        "     \"content\": \"You are an expert software engineer that writes clean functional code. You always document your functions.\"},\n",
        "    {\"role\": \"user\", \"content\": f\"Please implement: {json.dumps(code_spec)}\"}\n",
        "]\n",
        "\n",
        "response = generate_response(messages)\n",
        "print(response)"
      ],
      "metadata": {
        "id": "eB2onfE2LPIe",
        "outputId": "101775f5-f0e8-4868-ab6a-efdebc046045",
        "colab": {
          "base_uri": "https://localhost:8080/"
        }
      },
      "execution_count": 13,
      "outputs": [
        {
          "output_type": "stream",
          "name": "stdout",
          "text": [
            "```python\n",
            "def swap_keys_values(d):\n",
            "    \"\"\"Swaps the keys and values in a given dictionary.\n",
            "\n",
            "    Args:\n",
            "        d: A dictionary with unique values.\n",
            "\n",
            "    Returns:\n",
            "        A new dictionary with keys and values swapped.\n",
            "    \"\"\"\n",
            "    return {v: k for k, v in d.items()}\n",
            "```\n"
          ]
        }
      ]
    },
    {
      "cell_type": "code",
      "source": [
        "import json\n",
        "\n",
        "code_spec = {\n",
        "    'name': 'sort_keys_values',\n",
        "    'description': 'sort the keys and values in a given dictionary.',\n",
        "    'params': {\n",
        "        'd': 'A dictionary with unique values.'\n",
        "    },\n",
        "}\n",
        "\n",
        "messages = [\n",
        "    {\"role\": \"system\",\n",
        "     \"content\": \"You are an expert software engineer that writes clean functional code. You always document your functions.\"},\n",
        "    {\"role\": \"user\", \"content\": f\"Please implement: {json.dumps(code_spec)}\"}\n",
        "]\n",
        "\n",
        "response = generate_response(messages)\n",
        "print(response)"
      ],
      "metadata": {
        "id": "PyEqws81LV-b",
        "outputId": "ee11fc12-374d-4116-d1bb-2cf67ba8e1e9",
        "colab": {
          "base_uri": "https://localhost:8080/"
        }
      },
      "execution_count": 14,
      "outputs": [
        {
          "output_type": "stream",
          "name": "stdout",
          "text": [
            "```python\n",
            "def sort_keys_values(d):\n",
            "    \"\"\"sort the keys and values in a given dictionary.\n",
            "    For example:\n",
            "    sort_keys_values({'b': 1, 'a': 2, 'c': 0}) == (['a', 'b', 'c'], [2, 1, 0])\n",
            "    sort_keys_values({'b': 2, 'a': 1, 'c': 3}) == (['a', 'b', 'c'], [1, 2, 3])\n",
            "    sort_keys_values({'b': 3, 'a': 3, 'c': 3}) == (['a', 'b', 'c'], [3, 3, 3])\n",
            "    \"\"\"\n",
            "    keys = sorted(d.keys())\n",
            "    values = [d[key] for key in keys]\n",
            "    return keys, values\n",
            "```\n"
          ]
        }
      ]
    }
  ]
}